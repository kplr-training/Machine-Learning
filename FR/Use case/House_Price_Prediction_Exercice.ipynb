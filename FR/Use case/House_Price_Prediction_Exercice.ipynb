{
  "cells": [
    {
      "cell_type": "markdown",
      "metadata": {
        "id": "bq-6vkQDyakT"
      },
      "source": [
        "## <center>House Prices Prediction</center>"
      ]
    },
    {
      "cell_type": "markdown",
      "metadata": {
        "id": "a5Yau_UZyakc"
      },
      "source": [
        "Nous allons travailler sur un jeu de données qui contient des informations sur l'emplacement de la maison, le prix et d'autres aspects tels que la superficie, etc.\n",
        "\n",
        "Notre objectif principal aujourd'hui est de créer un modèle qui puisse nous donner une bonne prédiction du prix de la maison en fonction des autres variables."
      ]
    },
    {
      "cell_type": "markdown",
      "metadata": {
        "id": "UgHQR9QUyakd"
      },
      "source": [
        "#### Importer les bibliothèques nécessaires :"
      ]
    },
    {
      "cell_type": "code",
      "execution_count": null,
      "metadata": {
        "id": "VBicZpheyake"
      },
      "outputs": [],
      "source": [
        "import pandas as pd\n",
        "\n",
        "import matplotlib.pyplot as plt\n",
        "%matplotlib inline"
      ]
    },
    {
      "cell_type": "markdown",
      "metadata": {
        "id": "xAP1_cR-yakh"
      },
      "source": [
        "#### Charger le jeu de données à partir du fichier kc_house_data.csv :\n",
        "\n",
        "\n"
      ]
    },
    {
      "cell_type": "code",
      "execution_count": null,
      "metadata": {
        "scrolled": false,
        "id": "reZOz0wUyaki"
      },
      "outputs": [],
      "source": [
        "# Fill here"
      ]
    },
    {
      "cell_type": "markdown",
      "metadata": {
        "id": "DiZ1SCzTyakj"
      },
      "source": [
        "Field | Meaning\n",
        "--- | ---\n",
        "**id** | `A notation for a house`\n",
        "**date** | `Date house was sold`\n",
        "**price** | `Price is prediction target`\n",
        "**bedrooms** | `Number of Bedrooms/House`\n",
        "**bathrooms** | `Number of bathrooms/bedrooms`\n",
        "**sqft_living** | `Square footage of the home`\n",
        "**sqft_lot** | `Square footage of the lot`\n",
        "**floors** | `Total floors (levels) in house`\n",
        "**waterfront** | `House which has a view to a waterfront`\n",
        "**view** | `Has been viewed`\n",
        "**condition** | `How good the condition is Overall`\n",
        "**grade** | `Overall grade given to the housing unit, based on King County grading system`\n",
        "**sqft_above** | `Square footage of house apart from basement`\n",
        "**sqft_basement** | `Square footage of the basement`\n",
        "**yr_built** | `Built Year`\n",
        "**yr_renovated** | `Year when house was renovated`\n",
        "**zipcode** | `Zip code`\n",
        "**lat** | `Latitude coordinate`\n",
        "**long** | `Longitude coordinate`\n",
        "**sqft_living15** | `Living room area in 2015(implies-- some renovations) This might or might not have affected the lotsize area`\n",
        "**sqft_lot15** | `Lot size area in 2015 (implies-- some renovations)`"
      ]
    },
    {
      "cell_type": "markdown",
      "metadata": {
        "id": "J2o54RRCyakk"
      },
      "source": [
        "#### Exploration du jeu de données :\n",
        "Utilisez la fonction \"describe\" pour voir les percentiles et autres statistiques clés."
      ]
    },
    {
      "cell_type": "code",
      "execution_count": null,
      "metadata": {
        "scrolled": true,
        "id": "_OS0DM7byakm"
      },
      "outputs": [],
      "source": [
        "data.describe()"
      ]
    },
    {
      "cell_type": "markdown",
      "metadata": {
        "id": "ngh-egTlyakm"
      },
      "source": [
        "* The dataset has a house where the house has 33 bedrooms.\n",
        "* Maximum square feet is 13,450 where as the minimum is 290.\n",
        "* ..."
      ]
    },
    {
      "cell_type": "markdown",
      "metadata": {
        "id": "0RQ7Xzupyakn"
      },
      "source": [
        "Quelle est la maison la plus courante (en termes de nombre de chambres) ?"
      ]
    },
    {
      "cell_type": "code",
      "execution_count": null,
      "metadata": {
        "id": "lReS-QKNyako"
      },
      "outputs": [],
      "source": [
        "data['bedrooms'].value_counts().plot(kind='bar')\n",
        "plt.title(\"Number of Bedroom\")\n",
        "plt.xlabel(\"Bedrooms\")\n",
        "plt.ylabel(\"Count\")"
      ]
    },
    {
      "cell_type": "markdown",
      "metadata": {
        "id": "vhX_KoLjyako"
      },
      "source": [
        "#### Visualisation de l'emplacement des maisons en fonction de la latitude et de la longitude :"
      ]
    },
    {
      "cell_type": "markdown",
      "metadata": {
        "id": "HpmqZuRgyakp"
      },
      "source": [
        "Nous utiliserons **Seaborn**.\n",
        "\n",
        "Il s'agit d'une bibliothèque de visualisation de données en Python basée sur Matplotlib qui fournit une interface de haut niveau pour créer des graphiques statistiques attrayants et informatifs."
      ]
    },
    {
      "cell_type": "code",
      "execution_count": null,
      "metadata": {
        "id": "OL6ATD-byakp"
      },
      "outputs": [],
      "source": [
        "import seaborn as sns\n",
        "\n",
        "plt.figure(figsize=(10,10))\n",
        "sns.jointplot(x=data.lat.values, y=data.long.values, height=10)\n",
        "plt.ylabel('Longitude', fontsize=12)\n",
        "plt.xlabel('Latitude', fontsize=12)\n",
        "plt.show()"
      ]
    },
    {
      "cell_type": "markdown",
      "metadata": {
        "id": "3qD4Q0Wvyakq"
      },
      "source": [
        "#### How common factors are affecting the price of the houses ?\n",
        "\n"
      ]
    },
    {
      "cell_type": "markdown",
      "metadata": {
        "id": "N9B9xjpHyaks"
      },
      "source": [
        "1. Location :"
      ]
    },
    {
      "cell_type": "code",
      "execution_count": null,
      "metadata": {
        "id": "2oLl2LImyaks"
      },
      "outputs": [],
      "source": [
        "plt.scatter(data.long, data.price)\n",
        "plt.xlabel(\"Longitude\")\n",
        "plt.ylabel(\"Price\")\n",
        "plt.title(\"Price vs Location of the area\")"
      ]
    },
    {
      "cell_type": "code",
      "execution_count": null,
      "metadata": {
        "id": "CJ3E9-OWyakt"
      },
      "outputs": [],
      "source": [
        "plt.scatter(data.lat, data.price)\n",
        "plt.xlabel(\"Latitude\")\n",
        "plt.ylabel(\"Price\")\n",
        "plt.title(\"Latitude vs Price\")"
      ]
    },
    {
      "cell_type": "markdown",
      "metadata": {
        "id": "lUgwihnRyakt"
      },
      "source": [
        "2. Living area :"
      ]
    },
    {
      "cell_type": "code",
      "execution_count": null,
      "metadata": {
        "id": "njcH7qmGyaku"
      },
      "outputs": [],
      "source": [
        "# Fill here"
      ]
    },
    {
      "cell_type": "markdown",
      "metadata": {
        "id": "h7_ssx0hyaku"
      },
      "source": [
        "3. Bedrooms :"
      ]
    },
    {
      "cell_type": "code",
      "execution_count": null,
      "metadata": {
        "id": "GzA7weBnyaku"
      },
      "outputs": [],
      "source": [
        "# Fill here"
      ]
    },
    {
      "cell_type": "markdown",
      "metadata": {
        "id": "ghYHwI-1yakv"
      },
      "source": [
        "4. Square Footage :"
      ]
    },
    {
      "cell_type": "code",
      "execution_count": null,
      "metadata": {
        "id": "7TxgbxjLyakw"
      },
      "outputs": [],
      "source": [
        "# Fill here"
      ]
    },
    {
      "cell_type": "markdown",
      "metadata": {
        "id": "m9NbxvKMyakw"
      },
      "source": [
        "5. View to a waterfront :"
      ]
    },
    {
      "cell_type": "code",
      "execution_count": null,
      "metadata": {
        "id": "gxTFn1USyakw"
      },
      "outputs": [],
      "source": [
        "plt.scatter(data.waterfront, data.price)\n",
        "plt.xlabel(\"Price\")\n",
        "plt.title(\"Waterfront vs Price (0 = no waterfront)\")\n",
        "plt.show()"
      ]
    },
    {
      "cell_type": "markdown",
      "metadata": {
        "id": "IghjBlsqyakx"
      },
      "source": [
        "6. Zip code :"
      ]
    },
    {
      "cell_type": "code",
      "execution_count": null,
      "metadata": {
        "id": "5tW1R2vfyakx"
      },
      "outputs": [],
      "source": [
        "plt.scatter(data.zipcode, data.price)\n",
        "plt.xlabel(\"Price\")\n",
        "plt.ylabel(\"Zip Code\")\n",
        "plt.title(\"Which is the pricey location by zipcode?\")\n",
        "plt.show()"
      ]
    },
    {
      "cell_type": "markdown",
      "metadata": {
        "id": "9bHnZn0syakx"
      },
      "source": [
        "#### Heatmap :\n",
        "Pour nous assurer que nous avons couvert toutes les relations, nous traçons une corrélation entre toutes les caractéristiques en utilisant une heatmap.\n",
        "\n",
        "Une heatmap est une représentation graphique bidimensionnelle des données où les valeurs individuelles contenues dans une matrice sont représentées par des couleurs."
      ]
    },
    {
      "cell_type": "code",
      "execution_count": null,
      "metadata": {
        "id": "Y9oCYg4Fyakx"
      },
      "outputs": [],
      "source": [
        "fig ,ax = plt.subplots(figsize=(20, 15))\n",
        "colormap = sns.diverging_palette(220, 10, as_cmap=True)\n",
        "sns.heatmap(data.corr(), annot=True, cmap=colormap)"
      ]
    },
    {
      "cell_type": "markdown",
      "metadata": {
        "id": "jD2qBUiHyaky"
      },
      "source": [
        "#### Modèle :\n",
        "1. Créer le modèle de régression linéaire.\n",
        "2. Normalisation : Convertir la date en valeur booléenne (2014 en 1 et 2015 en 0).\n",
        "3. Nettoyer les données en supprimant les caractéristiques inutiles..."
      ]
    },
    {
      "cell_type": "code",
      "execution_count": null,
      "metadata": {
        "id": "CLZCDmAgyaky"
      },
      "outputs": [],
      "source": [
        "# Fill here"
      ]
    },
    {
      "cell_type": "code",
      "execution_count": null,
      "metadata": {
        "scrolled": true,
        "id": "833uw26kyaky",
        "outputId": "b356f2d9-577c-42f0-ca42-78149a32df6d"
      },
      "outputs": [
        {
          "data": {
            "text/html": [
              "<div>\n",
              "<style scoped>\n",
              "    .dataframe tbody tr th:only-of-type {\n",
              "        vertical-align: middle;\n",
              "    }\n",
              "\n",
              "    .dataframe tbody tr th {\n",
              "        vertical-align: top;\n",
              "    }\n",
              "\n",
              "    .dataframe thead th {\n",
              "        text-align: right;\n",
              "    }\n",
              "</style>\n",
              "<table border=\"1\" class=\"dataframe\">\n",
              "  <thead>\n",
              "    <tr style=\"text-align: right;\">\n",
              "      <th></th>\n",
              "      <th>id</th>\n",
              "      <th>date</th>\n",
              "      <th>price</th>\n",
              "      <th>bedrooms</th>\n",
              "      <th>bathrooms</th>\n",
              "      <th>sqft_living</th>\n",
              "      <th>sqft_lot</th>\n",
              "      <th>floors</th>\n",
              "      <th>waterfront</th>\n",
              "      <th>view</th>\n",
              "      <th>...</th>\n",
              "      <th>grade</th>\n",
              "      <th>sqft_above</th>\n",
              "      <th>sqft_basement</th>\n",
              "      <th>yr_built</th>\n",
              "      <th>yr_renovated</th>\n",
              "      <th>zipcode</th>\n",
              "      <th>lat</th>\n",
              "      <th>long</th>\n",
              "      <th>sqft_living15</th>\n",
              "      <th>sqft_lot15</th>\n",
              "    </tr>\n",
              "  </thead>\n",
              "  <tbody>\n",
              "    <tr>\n",
              "      <th>21608</th>\n",
              "      <td>263000018</td>\n",
              "      <td>1</td>\n",
              "      <td>360000.0</td>\n",
              "      <td>3</td>\n",
              "      <td>2.50</td>\n",
              "      <td>1530</td>\n",
              "      <td>1131</td>\n",
              "      <td>3.0</td>\n",
              "      <td>0</td>\n",
              "      <td>0</td>\n",
              "      <td>...</td>\n",
              "      <td>8</td>\n",
              "      <td>1530</td>\n",
              "      <td>0</td>\n",
              "      <td>2009</td>\n",
              "      <td>0</td>\n",
              "      <td>98103</td>\n",
              "      <td>47.6993</td>\n",
              "      <td>-122.346</td>\n",
              "      <td>1530</td>\n",
              "      <td>1509</td>\n",
              "    </tr>\n",
              "    <tr>\n",
              "      <th>21609</th>\n",
              "      <td>6600060120</td>\n",
              "      <td>0</td>\n",
              "      <td>400000.0</td>\n",
              "      <td>4</td>\n",
              "      <td>2.50</td>\n",
              "      <td>2310</td>\n",
              "      <td>5813</td>\n",
              "      <td>2.0</td>\n",
              "      <td>0</td>\n",
              "      <td>0</td>\n",
              "      <td>...</td>\n",
              "      <td>8</td>\n",
              "      <td>2310</td>\n",
              "      <td>0</td>\n",
              "      <td>2014</td>\n",
              "      <td>0</td>\n",
              "      <td>98146</td>\n",
              "      <td>47.5107</td>\n",
              "      <td>-122.362</td>\n",
              "      <td>1830</td>\n",
              "      <td>7200</td>\n",
              "    </tr>\n",
              "    <tr>\n",
              "      <th>21610</th>\n",
              "      <td>1523300141</td>\n",
              "      <td>1</td>\n",
              "      <td>402101.0</td>\n",
              "      <td>2</td>\n",
              "      <td>0.75</td>\n",
              "      <td>1020</td>\n",
              "      <td>1350</td>\n",
              "      <td>2.0</td>\n",
              "      <td>0</td>\n",
              "      <td>0</td>\n",
              "      <td>...</td>\n",
              "      <td>7</td>\n",
              "      <td>1020</td>\n",
              "      <td>0</td>\n",
              "      <td>2009</td>\n",
              "      <td>0</td>\n",
              "      <td>98144</td>\n",
              "      <td>47.5944</td>\n",
              "      <td>-122.299</td>\n",
              "      <td>1020</td>\n",
              "      <td>2007</td>\n",
              "    </tr>\n",
              "    <tr>\n",
              "      <th>21611</th>\n",
              "      <td>291310100</td>\n",
              "      <td>0</td>\n",
              "      <td>400000.0</td>\n",
              "      <td>3</td>\n",
              "      <td>2.50</td>\n",
              "      <td>1600</td>\n",
              "      <td>2388</td>\n",
              "      <td>2.0</td>\n",
              "      <td>0</td>\n",
              "      <td>0</td>\n",
              "      <td>...</td>\n",
              "      <td>8</td>\n",
              "      <td>1600</td>\n",
              "      <td>0</td>\n",
              "      <td>2004</td>\n",
              "      <td>0</td>\n",
              "      <td>98027</td>\n",
              "      <td>47.5345</td>\n",
              "      <td>-122.069</td>\n",
              "      <td>1410</td>\n",
              "      <td>1287</td>\n",
              "    </tr>\n",
              "    <tr>\n",
              "      <th>21612</th>\n",
              "      <td>1523300157</td>\n",
              "      <td>1</td>\n",
              "      <td>325000.0</td>\n",
              "      <td>2</td>\n",
              "      <td>0.75</td>\n",
              "      <td>1020</td>\n",
              "      <td>1076</td>\n",
              "      <td>2.0</td>\n",
              "      <td>0</td>\n",
              "      <td>0</td>\n",
              "      <td>...</td>\n",
              "      <td>7</td>\n",
              "      <td>1020</td>\n",
              "      <td>0</td>\n",
              "      <td>2008</td>\n",
              "      <td>0</td>\n",
              "      <td>98144</td>\n",
              "      <td>47.5941</td>\n",
              "      <td>-122.299</td>\n",
              "      <td>1020</td>\n",
              "      <td>1357</td>\n",
              "    </tr>\n",
              "  </tbody>\n",
              "</table>\n",
              "<p>5 rows × 21 columns</p>\n",
              "</div>"
            ],
            "text/plain": [
              "               id  date     price  bedrooms  bathrooms  sqft_living  sqft_lot  \\\n",
              "21608   263000018     1  360000.0         3       2.50         1530      1131   \n",
              "21609  6600060120     0  400000.0         4       2.50         2310      5813   \n",
              "21610  1523300141     1  402101.0         2       0.75         1020      1350   \n",
              "21611   291310100     0  400000.0         3       2.50         1600      2388   \n",
              "21612  1523300157     1  325000.0         2       0.75         1020      1076   \n",
              "\n",
              "       floors  waterfront  view  ...  grade  sqft_above  sqft_basement  \\\n",
              "21608     3.0           0     0  ...      8        1530              0   \n",
              "21609     2.0           0     0  ...      8        2310              0   \n",
              "21610     2.0           0     0  ...      7        1020              0   \n",
              "21611     2.0           0     0  ...      8        1600              0   \n",
              "21612     2.0           0     0  ...      7        1020              0   \n",
              "\n",
              "       yr_built  yr_renovated  zipcode      lat     long  sqft_living15  \\\n",
              "21608      2009             0    98103  47.6993 -122.346           1530   \n",
              "21609      2014             0    98146  47.5107 -122.362           1830   \n",
              "21610      2009             0    98144  47.5944 -122.299           1020   \n",
              "21611      2004             0    98027  47.5345 -122.069           1410   \n",
              "21612      2008             0    98144  47.5941 -122.299           1020   \n",
              "\n",
              "       sqft_lot15  \n",
              "21608        1509  \n",
              "21609        7200  \n",
              "21610        2007  \n",
              "21611        1287  \n",
              "21612        1357  \n",
              "\n",
              "[5 rows x 21 columns]"
            ]
          },
          "execution_count": 38,
          "metadata": {},
          "output_type": "execute_result"
        }
      ],
      "source": [
        "data.tail()"
      ]
    },
    {
      "cell_type": "markdown",
      "metadata": {
        "id": "-nj2NZMqyak0"
      },
      "source": [
        "4. Diviser les données.\n",
        "5. Entraîner le modèle.\n",
        "6. Calculer le score."
      ]
    },
    {
      "cell_type": "code",
      "execution_count": null,
      "metadata": {
        "scrolled": true,
        "id": "f6l4T0gMyak0"
      },
      "outputs": [],
      "source": [
        "from sklearn.model_selection import train_test_split\n",
        "\n",
        "# x_train , x_test , y_train , y_test"
      ]
    },
    {
      "cell_type": "markdown",
      "metadata": {
        "id": "PaftWT9Eyak0"
      },
      "source": [
        "\n",
        "#### Pour améliorer le résultat, choisissez un autre modèle :\n",
        "1.Créer le modèle.\n",
        "https://scikit-learn.org/stable/modules/generated/sklearn.ensemble.GradientBoostingRegressor.html"
      ]
    },
    {
      "cell_type": "code",
      "execution_count": null,
      "metadata": {
        "id": "IvNR5X59yak1"
      },
      "outputs": [],
      "source": [
        "# Fill here"
      ]
    },
    {
      "cell_type": "markdown",
      "metadata": {
        "id": "6NVNwWbzyak1"
      },
      "source": [
        "2. Entraîner le modèle.\n",
        "3. Calculer le score."
      ]
    },
    {
      "cell_type": "code",
      "execution_count": null,
      "metadata": {
        "scrolled": false,
        "id": "TRjPymNEyak_"
      },
      "outputs": [],
      "source": [
        "# Fill here"
      ]
    },
    {
      "cell_type": "markdown",
      "source": [
        "4. Effectuer des prédictions :"
      ],
      "metadata": {
        "id": "OaxEUaLezqJg"
      }
    },
    {
      "cell_type": "code",
      "execution_count": null,
      "metadata": {
        "scrolled": true,
        "id": "CierAxRhyalA"
      },
      "outputs": [],
      "source": [
        "# Fill here"
      ]
    }
  ],
  "metadata": {
    "kernelspec": {
      "display_name": "Python 3",
      "language": "python",
      "name": "python3"
    },
    "language_info": {
      "codemirror_mode": {
        "name": "ipython",
        "version": 3
      },
      "file_extension": ".py",
      "mimetype": "text/x-python",
      "name": "python",
      "nbconvert_exporter": "python",
      "pygments_lexer": "ipython3",
      "version": "3.6.8"
    },
    "colab": {
      "provenance": []
    }
  },
  "nbformat": 4,
  "nbformat_minor": 0
}