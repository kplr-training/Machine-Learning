{
  "cells": [
    {
      "cell_type": "markdown",
      "metadata": {
        "id": "lqzg_QxDhNDE"
      },
      "source": [
        "## <center> Machines à vecteurs de support (SVM) dans scikit-learn </center>\n",
        "\n",
        "- Ils peuvent être utilisés à la fois pour la classification et la régression (SVC, SVR). Dans notre cas, nous utiliserons SVC pour classer les tumeurs en malignes ou bénignes.\n",
        "- Ils peuvent fonctionner à la fois sur des données linéaires et non linéaires.\n",
        "<br/>\n",
        "<br/>\n",
        "Dans la régression logistique, le but était de trouver la meilleure ligne de séparation ou ce que nous aimons appeler la frontière de décision entre les classes. Nous avons fait cela en mesurant la distance par rapport à tous les points.\n",
        "Ce que fait SVM différemment, c'est de rechercher la marge la plus grande entre les points des côtés des lignes de décision, et ceux-ci sont appelés vecteurs de support.\n",
        "La classification dans ce cas peut être plus précise car nous ajoutons une autre couche de complexité au modèle pour la prise de décision.<br><br>\n",
        "\n",
        "* https://scikit-learn.org/stable/modules/svm.html\n",
        "* https://scikit-learn.org/stable/modules/generated/sklearn.svm.SVC.html"
      ]
    },
    {
      "cell_type": "markdown",
      "metadata": {
        "id": "M_plrF-UhNDJ"
      },
      "source": [
        "![](https://github.com/kplr-training/Machine-Learning/blob/main/01-SUPERVISED/02.CLASSIFICATION/ml-sklearn/SVM.png?raw=1)"
      ]
    },
    {
      "cell_type": "markdown",
      "metadata": {
        "id": "9vdRO290hNDK"
      },
      "source": [
        "D1 et D2 pourraient être des frontières de décision possibles pour les deux classes, mais D2 est le choix optimal car elle maximise la distance entre ces points de classe.\n",
        "L'idée est que la ligne de décision doit rester aussi éloignée que possible des instances d'entraînement les plus proches."
      ]
    },
    {
      "cell_type": "markdown",
      "metadata": {
        "id": "3n4YW3fmhNDK"
      },
      "source": [
        "**La technique du noyau (kernel trick) :**<br/>\n",
        "Nous avons constaté qu'il était assez facile de traiter des problèmes linéaires à l'aide des SVM. Mais comment traiter les données non linéaires (c'est-à-dire des données qui ne peuvent pas être séparées par une ligne) ?"
      ]
    },
    {
      "cell_type": "code",
      "execution_count": 1,
      "metadata": {
        "id": "FzP_0HLthNDL",
        "outputId": "fea0031c-5de0-4588-c2fd-2614f3a3bd07",
        "colab": {
          "base_uri": "https://localhost:8080/"
        }
      },
      "outputs": [
        {
          "output_type": "stream",
          "name": "stdout",
          "text": [
            "/bin/bash: -c: line 0: syntax error near unexpected token `ml-sklearn/SVM2.png'\n",
            "/bin/bash: -c: line 0: `[](ml-sklearn/SVM2.png)'\n"
          ]
        }
      ],
      "source": [
        "![](ml-sklearn/SVM2.png)"
      ]
    },
    {
      "cell_type": "markdown",
      "metadata": {
        "id": "Fov7YO6DhNDM"
      },
      "source": [
        "- Ici, nous avons seulement une caractéristique x1 et les données ne sont pas linéairement séparables. Si nous ajoutons une autre caractéristique x2 qui est x1², alors les données deviennent linéairement séparables.\n",
        "- Dans ce cas, nous avons utilisé ce qu'on appelle des caractéristiques polynomiales pour rendre les données séparables par une ligne. Nous pouvons utiliser cela pour des données de faible complexité et de petits ensembles de données.\n",
        "- Cependant, lorsque les données deviennent plus complexes et de plus grande dimension, nous pouvons utiliser la technique du noyau (kernel trick). Avec le noyau, c'est comme si nous ajoutions plusieurs caractéristiques polynomiales. Cela nous permet d'appliquer une sorte de transformation aux données pour changer l'espace d'entrée d'origine en un espace de dimension supérieure où il sera possible de trouver une séparation linéaire pour les données, puis de revenir à l'espace d'origine où elles deviennent non linéaires mais visibles."
      ]
    },
    {
      "cell_type": "code",
      "execution_count": 2,
      "metadata": {
        "id": "aHTpGnpchNDN",
        "outputId": "3eeecee1-46c2-4b3a-cd7e-3d0a73a86517",
        "colab": {
          "base_uri": "https://localhost:8080/"
        }
      },
      "outputs": [
        {
          "output_type": "stream",
          "name": "stdout",
          "text": [
            "/bin/bash: -c: line 0: syntax error near unexpected token `ml-sklearn/SVM3.png'\n",
            "/bin/bash: -c: line 0: `[](ml-sklearn/SVM3.png)'\n"
          ]
        }
      ],
      "source": [
        "![](ml-sklearn/SVM3.png)"
      ]
    },
    {
      "cell_type": "markdown",
      "metadata": {
        "id": "JmQpwwWPhNDN"
      },
      "source": [
        "Cette astuce est très appréciée car elle permet de gagner en complexité computationnelle et en charge de travail. Elle consiste à calculer le produit scalaire des facteurs transformés sans avoir à traiter la transformation elle-même."
      ]
    },
    {
      "cell_type": "markdown",
      "metadata": {
        "id": "VwwFxHL2hNDO"
      },
      "source": [
        "### Noyaux couramment utilisés :\n",
        "\n",
        "- Linéaire.\n",
        "- Polynomiale.\n",
        "- Fonction de base radiale (RBF) - RBF gaussienne.\n",
        "- Sigmoïde.\n",
        "- etc..."
      ]
    },
    {
      "cell_type": "markdown",
      "metadata": {
        "id": "IolWaSXOhNDO"
      },
      "source": [
        "1. Diviser les données.\n",
        "2. Instancier le classifieur C-Support Vector avec les paramètres par défaut."
      ]
    },
    {
      "cell_type": "code",
      "execution_count": 3,
      "metadata": {
        "scrolled": true,
        "id": "X9EdtU1IhNDO",
        "outputId": "ba7c67ef-a1ac-4a89-ed64-42b8299d3f87",
        "colab": {
          "base_uri": "https://localhost:8080/"
        }
      },
      "outputs": [
        {
          "output_type": "stream",
          "name": "stdout",
          "text": [
            "The accuracy on the training subset: 0.904\n",
            "The accuracy on the test subset: 0.937\n"
          ]
        }
      ],
      "source": [
        "from sklearn.svm import SVC\n",
        "from sklearn.model_selection import train_test_split\n",
        "from sklearn.datasets import load_breast_cancer\n",
        "\n",
        "cancer = load_breast_cancer()\n",
        "X_train, X_test, y_train, y_test = train_test_split(cancer.data, cancer.target, random_state=0)\n",
        "\n",
        "svm = SVC()\n",
        "svm.fit(X_train, y_train)\n",
        "\n",
        "print('The accuracy on the training subset: {:.3f}'.format(svm.score(X_train, y_train)))\n",
        "print('The accuracy on the test subset: {:.3f}'.format(svm.score(X_test, y_test)))"
      ]
    },
    {
      "cell_type": "markdown",
      "metadata": {
        "id": "qFxlYNhchNDP"
      },
      "source": [
        "#### Obtenir les indices des vecteurs de support"
      ]
    },
    {
      "cell_type": "code",
      "execution_count": 4,
      "metadata": {
        "id": "48zFcDW2hNDP",
        "outputId": "4e75eb95-bb52-4e0c-8b52-752e5bb3004d",
        "colab": {
          "base_uri": "https://localhost:8080/"
        }
      },
      "outputs": [
        {
          "output_type": "stream",
          "name": "stdout",
          "text": [
            "[  4  12  14  23  36  40  49  56  77  79  94 102 104 105 107 109 113 136\n",
            " 148 150 153 157 179 185 187 194 195 212 213 218 221 225 230 237 244 253\n",
            " 261 279 286 292 307 309 310 312 325 332 333 334 341 352 370 372 377 379\n",
            " 382 384 392 402 406 407 422   3   8  10  13  25  39  43  74  81  87  96\n",
            " 112 114 119 124 130 139 141 155 156 163 166 181 184 188 189 201 204 207\n",
            " 215 223 239 246 258 273 278 283 285 288 293 306 316 317 322 344 355 357\n",
            " 367 368 381 385 393 404 405 408 416 419]\n"
          ]
        }
      ],
      "source": [
        "support_vector_indices = svm.support_\n",
        "print(support_vector_indices)"
      ]
    },
    {
      "cell_type": "markdown",
      "metadata": {
        "id": "C7VV5MdNhNDP"
      },
      "source": [
        "#### Obtenir le nombre de vecteurs de support par classe\n",
        "(Nous avons deux classes : Oui / Non, Cancer / Pas de cancer)"
      ]
    },
    {
      "cell_type": "code",
      "execution_count": 5,
      "metadata": {
        "id": "CfHlw9OIhNDP",
        "outputId": "c4c81c2d-ec16-4898-94a7-53bb828d9070",
        "colab": {
          "base_uri": "https://localhost:8080/"
        }
      },
      "outputs": [
        {
          "output_type": "stream",
          "name": "stdout",
          "text": [
            "[61 57]\n"
          ]
        }
      ],
      "source": [
        "support_vectors_per_class = svm.n_support_\n",
        "print(support_vectors_per_class)"
      ]
    },
    {
      "cell_type": "code",
      "execution_count": 6,
      "metadata": {
        "id": "MT4_x5AnhNDQ",
        "outputId": "014cc710-25c2-46af-c5fa-a28d58edaf28",
        "colab": {
          "base_uri": "https://localhost:8080/"
        }
      },
      "outputs": [
        {
          "output_type": "stream",
          "name": "stdout",
          "text": [
            "(426, 30)\n"
          ]
        }
      ],
      "source": [
        "print(X_train.shape)"
      ]
    },
    {
      "cell_type": "code",
      "execution_count": 7,
      "metadata": {
        "id": "BFZGbgNmhNDQ",
        "outputId": "f9f8a193-76be-496e-d2f0-72762a73459e",
        "colab": {
          "base_uri": "https://localhost:8080/"
        }
      },
      "outputs": [
        {
          "output_type": "execute_result",
          "data": {
            "text/plain": [
              "array([17.46, 19.86, 28.25, 17.84, 20.2 , 18.9 , 16.21, 19.07, 19.65,\n",
              "       17.33, 18.75, 17.27, 23.94, 15.98, 24.69, 17.67, 19.97, 21.68,\n",
              "       19.02, 17.2 , 25.42, 15.39, 19.08, 20.83, 20.66, 18.68, 21.57,\n",
              "       21.94, 14.59, 18.61, 17.94, 18.58, 13.43, 19.94, 15.71, 13.08,\n",
              "       22.02, 25.11, 20.02, 22.3 , 24.98, 14.23, 23.09, 14.74, 16.32,\n",
              "       18.57, 14.97, 14.88, 19.98, 21.82, 15.62, 16.18, 19.82, 26.67,\n",
              "       17.43, 15.6 , 25.2 , 19.54, 12.22, 23.06, 24.27, 18.18, 14.16,\n",
              "       18.02, 13.14, 21.24, 16.39, 15.34, 14.08, 11.79, 14.78, 19.83,\n",
              "       17.62, 25.09, 13.98, 22.13, 15.15, 22.33, 18.75, 19.63, 17.15,\n",
              "       23.77, 12.74, 21.17, 17.88, 29.37, 22.15, 15.7 , 13.32, 16.34,\n",
              "       32.47, 24.21, 18.24, 16.52, 21.53, 14.71, 14.76, 18.8 , 14.34,\n",
              "       17.92, 26.57, 19.86, 18.83, 21.28, 19.51, 15.7 , 18.05, 21.88,\n",
              "       19.56, 22.47, 18.4 , 20.2 , 11.28, 14.26, 13.16, 20.26, 10.82,\n",
              "       15.86, 18.82, 18.22, 28.92, 19.34, 20.18, 27.88, 27.85, 15.7 ,\n",
              "       16.85, 16.33, 21.41, 15.76, 16.62, 16.62, 22.04, 18.33, 16.17,\n",
              "       13.86, 15.56, 13.37, 27.61, 19.24, 15.45, 18.3 , 17.18, 22.28,\n",
              "       14.93, 22.49, 14.65, 20.78, 20.82, 13.9 , 19.22, 17.08, 18.1 ,\n",
              "       24.49, 21.25, 13.9 , 16.33, 16.58, 18.89, 15.04, 14.96, 21.97,\n",
              "       15.83, 15.69, 17.26, 18.06, 13.23, 24.68, 21.78, 25.44, 20.04,\n",
              "       14.98, 16.67, 16.85, 19.33, 18.84, 14.09, 20.54, 28.23, 17.05,\n",
              "       33.81, 13.93, 26.47, 21.8 , 19.73, 21.81, 20.98, 20.22, 16.07,\n",
              "       23.23, 17.56, 19.12, 21.56, 23.86, 18.14, 15.79, 13.27, 21.59,\n",
              "       12.83, 15.05, 27.15, 19.6 , 24.89, 13.84, 24.99, 17.48, 20.25,\n",
              "       26.99, 20.22, 20.74, 29.43, 15.73, 17.57, 18.47, 19.29, 17.66,\n",
              "       18.32, 20.52, 16.93, 18.17, 15.9 , 23.81, 15.68, 18.6 , 15.91,\n",
              "       33.56, 19.04, 21.38, 18.35, 18.9 , 20.25, 25.12, 20.67, 20.76,\n",
              "        9.71, 21.84, 17.12, 21.58, 24.48, 30.72, 18.  , 18.29, 14.95,\n",
              "       17.93, 23.95, 13.12, 12.88, 17.12, 18.45, 23.97, 17.52, 15.94,\n",
              "       26.29, 16.67, 16.07, 21.37, 16.4 , 16.99, 17.91, 15.34, 20.13,\n",
              "       19.62, 19.35, 21.26, 18.49, 21.54, 13.39, 21.46, 27.06, 17.46,\n",
              "       29.29, 18.87, 21.51, 13.66, 25.22, 17.57, 16.02, 17.31, 14.36,\n",
              "       20.71, 12.35, 17.64, 20.39, 18.29, 15.46, 20.21, 20.38, 28.03,\n",
              "       17.21, 26.6 , 20.76, 16.15, 22.41, 13.21, 16.41, 19.59, 17.36,\n",
              "       13.78, 20.86, 20.31, 23.98, 20.97, 14.4 , 23.2 , 17.89, 18.07,\n",
              "       20.53, 21.46, 18.95, 21.72, 26.86, 19.31, 21.35, 16.82, 16.83,\n",
              "       21.6 , 12.91, 14.7 , 14.44, 19.83, 21.6 , 25.  , 10.89, 17.53,\n",
              "       21.41, 22.15, 24.54, 28.21, 13.29, 17.19, 23.04, 18.03, 23.95,\n",
              "       20.28, 23.29, 17.72, 10.38, 17.48, 19.32, 18.59, 17.25, 26.27,\n",
              "       13.44, 12.84, 16.16, 14.96, 18.16, 12.17, 16.02, 22.22, 21.9 ,\n",
              "       28.77, 19.83, 21.84, 23.03, 22.68, 22.22, 16.95, 16.49, 24.49,\n",
              "       14.63, 16.84, 17.35, 17.46, 20.26, 15.18, 13.17, 15.51, 15.18,\n",
              "       15.92, 21.87, 19.48, 18.66, 15.21, 23.75, 15.65, 14.83, 22.76,\n",
              "       24.91, 22.53, 20.01, 19.1 , 21.59, 19.66, 17.27, 15.79, 24.81,\n",
              "       15.5 , 21.  , 15.67, 16.17, 18.7 , 22.55, 16.39, 25.27, 14.92,\n",
              "       28.2 , 14.69, 20.7 , 23.5 , 28.06, 20.7 , 31.12, 19.96, 19.13,\n",
              "       18.77, 20.11, 19.77, 19.34, 17.68, 21.53, 24.52, 24.44, 15.15,\n",
              "       24.59, 22.44, 16.85, 18.6 , 18.89, 14.93, 21.31, 19.98, 24.04,\n",
              "       18.32, 18.22, 23.93])"
            ]
          },
          "metadata": {},
          "execution_count": 7
        }
      ],
      "source": [
        "X_train[:,1]"
      ]
    },
    {
      "cell_type": "code",
      "execution_count": 8,
      "metadata": {
        "id": "mfWg6pCKhNDQ",
        "outputId": "e6d92547-e74e-4229-ef25-67c646768832",
        "colab": {
          "base_uri": "https://localhost:8080/"
        }
      },
      "outputs": [
        {
          "output_type": "execute_result",
          "data": {
            "text/plain": [
              "(426,)"
            ]
          },
          "metadata": {},
          "execution_count": 8
        }
      ],
      "source": [
        "X_train[:,1].shape"
      ]
    },
    {
      "cell_type": "markdown",
      "metadata": {
        "id": "aTjsvsGNhNDQ"
      },
      "source": [
        "#### Plot some support_vectors, for some dimensions"
      ]
    },
    {
      "cell_type": "code",
      "execution_count": 9,
      "metadata": {
        "id": "U_71DaPEhNDQ",
        "outputId": "c57a3dd6-4fcb-4c7f-d6bb-a4b3e8886809",
        "colab": {
          "base_uri": "https://localhost:8080/",
          "height": 472
        }
      },
      "outputs": [
        {
          "output_type": "display_data",
          "data": {
            "text/plain": [
              "<Figure size 640x480 with 1 Axes>"
            ],
            "image/png": "[encoded data removed]"
          },
          "metadata": {}
        }
      ],
      "source": [
        "import matplotlib.pyplot as plt\n",
        "\n",
        "# Get support vectors themselves\n",
        "support_vectors = svm.support_vectors_\n",
        "\n",
        "# Visualize support vectors\n",
        "plt.scatter(X_train[:,0], X_train[:,1])\n",
        "plt.scatter(support_vectors[:,0], support_vectors[:,1], color='red')\n",
        "plt.title('Linearly separable data with support vectors')\n",
        "plt.xlabel('X1')\n",
        "plt.ylabel('X2')\n",
        "plt.show()"
      ]
    },
    {
      "cell_type": "code",
      "execution_count": 10,
      "metadata": {
        "id": "HjU8nZ0nhNDQ",
        "outputId": "aa2b376b-5bd0-4166-8aaa-ce7e48440c8f",
        "colab": {
          "base_uri": "https://localhost:8080/",
          "height": 472
        }
      },
      "outputs": [
        {
          "output_type": "display_data",
          "data": {
            "text/plain": [
              "<Figure size 640x480 with 1 Axes>"
            ],
            "image/png": "[encoded data removed]"
          },
          "metadata": {}
        }
      ],
      "source": [
        "import matplotlib.pyplot as plt\n",
        "# Get support vectors themselves\n",
        "support_vectors = svm.support_vectors_\n",
        "\n",
        "# Visualize support vectors\n",
        "plt.scatter(X_train[:,20], X_train[:,10])\n",
        "plt.scatter(support_vectors[:,20], support_vectors[:,10], color='red')\n",
        "plt.title('Linearly separable data with support vectors')\n",
        "plt.xlabel('X1')\n",
        "plt.ylabel('X2')\n",
        "plt.show()"
      ]
    },
    {
      "cell_type": "markdown",
      "metadata": {
        "id": "rpKdhGWYhNDR"
      },
      "source": [
        "### <center>Normalisation des données </center>\n",
        "Nous pouvons améliorer les performances en normalisant les données.\n",
        "Les SVM sont très sensibles à l'échelle, et dans notre cas, les données ne sont pas mises à l'échelle (c'est-à-dire normalisées).\n",
        "Voyons donc comment chaque caractéristique se présente actuellement ou où se situent exactement le minimum et le maximum de chaque caractéristique."
      ]
    },
    {
      "cell_type": "code",
      "execution_count": 11,
      "metadata": {
        "id": "a7R4YgqshNDR",
        "outputId": "c06fc1d5-cf59-4c02-d29b-e3bb604cf562",
        "colab": {
          "base_uri": "https://localhost:8080/",
          "height": 467
        }
      },
      "outputs": [
        {
          "output_type": "execute_result",
          "data": {
            "text/plain": [
              "<matplotlib.legend.Legend at 0x7f5e840a5f90>"
            ]
          },
          "metadata": {},
          "execution_count": 11
        },
        {
          "output_type": "display_data",
          "data": {
            "text/plain": [
              "<Figure size 640x480 with 1 Axes>"
            ],
            "image/png": "[encoded data removed]"
          },
          "metadata": {}
        }
      ],
      "source": [
        "import matplotlib.pyplot as plt\n",
        "%matplotlib inline\n",
        "\n",
        "plt.plot(X_train.min(axis=0), 'o', label='Min')\n",
        "plt.plot(X_train.max(axis=0), 'v', label='Max')\n",
        "plt.xlabel('Feature Index')\n",
        "plt.ylabel('Feature Magnitude in Log Scale')\n",
        "plt.yscale('log')\n",
        "plt.legend(loc='upper right')"
      ]
    },
    {
      "cell_type": "markdown",
      "metadata": {
        "id": "sGVFLgyohNDR"
      },
      "source": [
        "Il y a de grands écarts entre les valeurs minimales et maximales de chaque variable, ainsi qu'une différence d'ordres de grandeur entre les caractéristiques. Cela est un facteur qui contribue à la faible performance de notre SVM.\n",
        "\n",
        "**Normalisons les données !**\n",
        "Nous pourrions simplement utiliser des scalers intégrés à scikit-learn, tels que le StandardScaler ou le MinMaxScaler, disponibles dans le module de prétraitement.\n",
        "Nous allons le faire manuellement pour mieux comprendre ce que signifie la mise à l'échelle des données.\n",
        "Essayons de ramener les valeurs de chaque caractéristique de chaque échantillon dans une certaine plage, comme de 0 à 1."
      ]
    },
    {
      "cell_type": "markdown",
      "metadata": {
        "id": "UVKugG74hNDR"
      },
      "source": [
        "#### Normaliser l'ensemble de train"
      ]
    },
    {
      "cell_type": "code",
      "execution_count": 12,
      "metadata": {
        "scrolled": true,
        "id": "vvClr48uhNDR",
        "outputId": "57dbf6fd-8238-43f0-baba-12ed3a69cb76",
        "colab": {
          "base_uri": "https://localhost:8080/"
        }
      },
      "outputs": [
        {
          "output_type": "stream",
          "name": "stdout",
          "text": [
            "Minimum per feature\n",
            "[0. 0. 0. 0. 0. 0. 0. 0. 0. 0. 0. 0. 0. 0. 0. 0. 0. 0. 0. 0. 0. 0. 0. 0.\n",
            " 0. 0. 0. 0. 0. 0.]\n",
            "Maximum per feature\n",
            "[1. 1. 1. 1. 1. 1. 1. 1. 1. 1. 1. 1. 1. 1. 1. 1. 1. 1. 1. 1. 1. 1. 1. 1.\n",
            " 1. 1. 1. 1. 1. 1.]\n"
          ]
        }
      ],
      "source": [
        "# The minimum value of each feature\n",
        "min_train = X_train.min(axis=0)\n",
        "\n",
        "# The range of each feature by substracting the minimum from the maximum.\n",
        "range_train = X_train.max(axis=0) - min_train\n",
        "\n",
        "# Substract the minimum for each feature and divide by the range to bring data between 0 & 1\n",
        "X_train_scaled = (X_train - min_train) / range_train\n",
        "\n",
        "print('Minimum per feature\\n{}'.format(X_train_scaled.min(axis=0)))\n",
        "print('Maximum per feature\\n{}'.format(X_train_scaled.max(axis=0)))"
      ]
    },
    {
      "cell_type": "markdown",
      "metadata": {
        "id": "_x_oEU5MhNDS"
      },
      "source": [
        "#### Normaliser l'ensemble de test"
      ]
    },
    {
      "cell_type": "code",
      "execution_count": 13,
      "metadata": {
        "id": "Z8nIThErhNDS"
      },
      "outputs": [],
      "source": [
        "X_test_scaled = (X_test - min_train)/range_train"
      ]
    },
    {
      "cell_type": "code",
      "execution_count": 14,
      "metadata": {
        "id": "5soSJq7LhNDS",
        "outputId": "74851293-c4ea-4415-a5f5-1af4cf87e61b",
        "colab": {
          "base_uri": "https://localhost:8080/",
          "height": 74
        }
      },
      "outputs": [
        {
          "output_type": "execute_result",
          "data": {
            "text/plain": [
              "SVC()"
            ],
            "text/html": [
              "<style>#sk-container-id-1 {color: black;background-color: white;}#sk-container-id-1 pre{padding: 0;}#sk-container-id-1 div.sk-toggleable {background-color: white;}#sk-container-id-1 label.sk-toggleable__label {cursor: pointer;display: block;width: 100%;margin-bottom: 0;padding: 0.3em;box-sizing: border-box;text-align: center;}#sk-container-id-1 label.sk-toggleable__label-arrow:before {content: \"▸\";float: left;margin-right: 0.25em;color: #696969;}#sk-container-id-1 label.sk-toggleable__label-arrow:hover:before {color: black;}#sk-container-id-1 div.sk-estimator:hover label.sk-toggleable__label-arrow:before {color: black;}#sk-container-id-1 div.sk-toggleable__content {max-height: 0;max-width: 0;overflow: hidden;text-align: left;background-color: #f0f8ff;}#sk-container-id-1 div.sk-toggleable__content pre {margin: 0.2em;color: black;border-radius: 0.25em;background-color: #f0f8ff;}#sk-container-id-1 input.sk-toggleable__control:checked~div.sk-toggleable__content {max-height: 200px;max-width: 100%;overflow: auto;}#sk-container-id-1 input.sk-toggleable__control:checked~label.sk-toggleable__label-arrow:before {content: \"▾\";}#sk-container-id-1 div.sk-estimator input.sk-toggleable__control:checked~label.sk-toggleable__label {background-color: #d4ebff;}#sk-container-id-1 div.sk-label input.sk-toggleable__control:checked~label.sk-toggleable__label {background-color: #d4ebff;}#sk-container-id-1 input.sk-hidden--visually {border: 0;clip: rect(1px 1px 1px 1px);clip: rect(1px, 1px, 1px, 1px);height: 1px;margin: -1px;overflow: hidden;padding: 0;position: absolute;width: 1px;}#sk-container-id-1 div.sk-estimator {font-family: monospace;background-color: #f0f8ff;border: 1px dotted black;border-radius: 0.25em;box-sizing: border-box;margin-bottom: 0.5em;}#sk-container-id-1 div.sk-estimator:hover {background-color: #d4ebff;}#sk-container-id-1 div.sk-parallel-item::after {content: \"\";width: 100%;border-bottom: 1px solid gray;flex-grow: 1;}#sk-container-id-1 div.sk-label:hover label.sk-toggleable__label {background-color: #d4ebff;}#sk-container-id-1 div.sk-serial::before {content: \"\";position: absolute;border-left: 1px solid gray;box-sizing: border-box;top: 0;bottom: 0;left: 50%;z-index: 0;}#sk-container-id-1 div.sk-serial {display: flex;flex-direction: column;align-items: center;background-color: white;padding-right: 0.2em;padding-left: 0.2em;position: relative;}#sk-container-id-1 div.sk-item {position: relative;z-index: 1;}#sk-container-id-1 div.sk-parallel {display: flex;align-items: stretch;justify-content: center;background-color: white;position: relative;}#sk-container-id-1 div.sk-item::before, #sk-container-id-1 div.sk-parallel-item::before {content: \"\";position: absolute;border-left: 1px solid gray;box-sizing: border-box;top: 0;bottom: 0;left: 50%;z-index: -1;}#sk-container-id-1 div.sk-parallel-item {display: flex;flex-direction: column;z-index: 1;position: relative;background-color: white;}#sk-container-id-1 div.sk-parallel-item:first-child::after {align-self: flex-end;width: 50%;}#sk-container-id-1 div.sk-parallel-item:last-child::after {align-self: flex-start;width: 50%;}#sk-container-id-1 div.sk-parallel-item:only-child::after {width: 0;}#sk-container-id-1 div.sk-dashed-wrapped {border: 1px dashed gray;margin: 0 0.4em 0.5em 0.4em;box-sizing: border-box;padding-bottom: 0.4em;background-color: white;}#sk-container-id-1 div.sk-label label {font-family: monospace;font-weight: bold;display: inline-block;line-height: 1.2em;}#sk-container-id-1 div.sk-label-container {text-align: center;}#sk-container-id-1 div.sk-container {/* jupyter's `normalize.less` sets `[hidden] { display: none; }` but bootstrap.min.css set `[hidden] { display: none !important; }` so we also need the `!important` here to be able to override the default hidden behavior on the sphinx rendered scikit-learn.org. See: https://github.com/scikit-learn/scikit-learn/issues/21755 */display: inline-block !important;position: relative;}#sk-container-id-1 div.sk-text-repr-fallback {display: none;}</style><div id=\"sk-container-id-1\" class=\"sk-top-container\"><div class=\"sk-text-repr-fallback\"><pre>SVC()</pre><b>In a Jupyter environment, please rerun this cell to show the HTML representation or trust the notebook. <br />On GitHub, the HTML representation is unable to render, please try loading this page with nbviewer.org.</b></div><div class=\"sk-container\" hidden><div class=\"sk-item\"><div class=\"sk-estimator sk-toggleable\"><input class=\"sk-toggleable__control sk-hidden--visually\" id=\"sk-estimator-id-1\" type=\"checkbox\" checked><label for=\"sk-estimator-id-1\" class=\"sk-toggleable__label sk-toggleable__label-arrow\">SVC</label><div class=\"sk-toggleable__content\"><pre>SVC()</pre></div></div></div></div></div>"
            ]
          },
          "metadata": {},
          "execution_count": 14
        }
      ],
      "source": [
        "svm = SVC()\n",
        "svm.fit(X_train_scaled, y_train)"
      ]
    },
    {
      "cell_type": "code",
      "execution_count": 15,
      "metadata": {
        "id": "ABIpqm2MhNDS",
        "outputId": "9caed4ee-69df-41b3-8c9c-6bc28d81efba",
        "colab": {
          "base_uri": "https://localhost:8080/"
        }
      },
      "outputs": [
        {
          "output_type": "stream",
          "name": "stdout",
          "text": [
            "The accuracy on the training subset: 0.984\n",
            "The accuracy on the test subset: 0.972\n"
          ]
        }
      ],
      "source": [
        "print('The accuracy on the training subset: {:.3f}'.format(svm.score(X_train_scaled, y_train)))\n",
        "print('The accuracy on the test subset: {:.3f}'.format(svm.score(X_test_scaled, y_test)))"
      ]
    },
    {
      "cell_type": "markdown",
      "metadata": {
        "id": "D6aA2RUZhNDS"
      },
      "source": [
        "C'est beaucoup mieux, mais nous sommes dans une situation de sous-ajustement (under-fitting)."
      ]
    },
    {
      "cell_type": "markdown",
      "metadata": {
        "id": "z0uluPynhNDS"
      },
      "source": [
        "### <center> Ajustement des hyperparamètres </center>\n",
        "\n",
        "Quel hyperparamètre devrions-nous essayer d'ajuster en premier pour améliorer les performances de l'algorithme ?\n",
        "Essayons avec C et Gamma, qui contrôlent la complexité du modèle.\n",
        "\n",
        "De manière intuitive :\n",
        "\n",
        "- Gamma définit jusqu'où l'influence d'un seul exemple d'entraînement s'étend, avec de faibles valeurs signifiant 'loin' et de fortes valeurs signifiant 'proche'.\n",
        "Les paramètres gamma peuvent être considérés comme l'inverse du rayon d'influence des échantillons sélectionnés par le modèle en tant que vecteurs de support. Il détermine la distance à laquelle un seul échantillon de données exerce une influence.\n",
        "\n",
        "- C est le paramètre de régularisation (lambda) qui sert de degré d'importance accordé aux erreurs de classification.\n",
        "Le paramètre C équilibre la classification incorrecte des exemples d'entraînement par rapport à la simplicité de la surface de décision.\n",
        "Une faible valeur de C rend la surface de décision lisse, tandis qu'une valeur élevée de C vise à classer correctement tous les exemples d'entraînement en donnant au modèle la liberté de sélectionner plus d'échantillons en tant que vecteurs de support.\n",
        "\n",
        "La valeur par défaut de C est 1.\n",
        "La valeur par défaut de Gamma est 'auto'."
      ]
    },
    {
      "cell_type": "code",
      "execution_count": 16,
      "metadata": {
        "scrolled": true,
        "id": "2qQfBqiGhNDT",
        "outputId": "8e9fd318-94ae-424f-f805-c3da8815708c",
        "colab": {
          "base_uri": "https://localhost:8080/"
        }
      },
      "outputs": [
        {
          "output_type": "stream",
          "name": "stdout",
          "text": [
            "The accuracy on the training subset: 0.995\n",
            "The accuracy on the test subset: 0.979\n"
          ]
        }
      ],
      "source": [
        "svm = SVC(C=50)\n",
        "svm.fit(X_train_scaled, y_train)\n",
        "\n",
        "print('The accuracy on the training subset: {:.3f}'.format(svm.score(X_train_scaled, y_train)))\n",
        "print('The accuracy on the test subset: {:.3f}'.format(svm.score(X_test_scaled, y_test)))"
      ]
    },
    {
      "cell_type": "markdown",
      "metadata": {
        "id": "xC4PKrVGhNDT"
      },
      "source": [
        "Les performances sont très bonnes, donc il n'est pas nécessaire d'essayer avec Gamma."
      ]
    },
    {
      "cell_type": "markdown",
      "metadata": {
        "id": "e1GCLKnahNDT"
      },
      "source": [
        "**Améliorations :**\n",
        "Comme toujours, un fine tuning peut être effectué."
      ]
    },
    {
      "cell_type": "markdown",
      "metadata": {
        "id": "yksQapTShNDT"
      },
      "source": [
        "### <center> Avantages et inconvénients des SVM </center>\n",
        "\n",
        "#### Points forts :\n",
        "- Polyvalence, ce qui signifie qu'ils peuvent bien fonctionner sur une gamme variée d'ensembles de données.\n",
        "- Capables de construire des frontières de décision complexes sur des données de faible dimension.\n",
        "- Peuvent bien fonctionner sur des données de grande dimension avec une taille d'échantillon relativement petite.\n",
        "- etc.\n",
        "\n",
        "#### Points faibles :\n",
        "- Ne performe pas bien sur des données de grande dimension avec de nombreux échantillons (c'est-à-dire > 100 000).\n",
        "- Un prétraitement peut être nécessaire, ce qui implique une connaissance et une compréhension des hyperparamètres.\n",
        "- Plus difficile à inspecter et à visualiser.\n",
        "- etc.\n",
        "\n",
        "#### Alternatives :\n",
        "- Arbres de décision et forêts aléatoires (nécessitent moins/aucun prétraitement des données, plus faciles à comprendre, inspecter et visualiser).\n",
        "\n",
        "#### Bonnes pratiques :\n",
        "- Mise à l'échelle des données.\n",
        "- Autres prétraitements.\n",
        "- Choix d'un noyau approprié.\n",
        "- Ajustement des hyperparamètres : C, gamma, etc."
      ]
    }
  ],
  "metadata": {
    "kernelspec": {
      "display_name": "Python 3",
      "language": "python",
      "name": "python3"
    },
    "language_info": {
      "codemirror_mode": {
        "name": "ipython",
        "version": 3
      },
      "file_extension": ".py",
      "mimetype": "text/x-python",
      "name": "python",
      "nbconvert_exporter": "python",
      "pygments_lexer": "ipython3",
      "version": "3.6.8"
    },
    "colab": {
      "provenance": []
    }
  },
  "nbformat": 4,
  "nbformat_minor": 0
}