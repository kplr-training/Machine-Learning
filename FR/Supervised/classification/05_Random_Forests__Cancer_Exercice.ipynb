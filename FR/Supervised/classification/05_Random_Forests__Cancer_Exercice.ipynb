{
  "cells": [
    {
      "cell_type": "markdown",
      "metadata": {
        "id": "7g2qauQGZInC"
      },
      "source": [
        "## <center> Random Forests </center>\n",
        "- Nous allons utiliser des ensembles qui combinent plusieurs modules d'apprentissage automatique dans un modèle plus puissant.\n",
        "Le premier modèle à explorer est celui des forêts aléatoires.\n",
        "Nous pouvons considérer une forêt aléatoire comme une collection d'arbres de décision.\n",
        "<br/><br/>\n",
        "\n",
        "- **Comment les forêts aléatoires sont-elles meilleures ou différentes des arbres de décision simples ?**\n",
        "\n",
        "- Nous avons constaté que les arbres de décision ont tendance à surajuster une partie des données. La combinaison de plusieurs arbres permet de conserver leur puissance prédictive et peut réduire le surajustement en moyennant les résultats.\n",
        "\n",
        "- Une caractéristique puissante et distincte des forêts aléatoires est l'application de la randomisation lors de la construction de chaque arbre. Le principal paramètre à spécifier est le nombre d'estimateurs, qui indique combien d'arbres créer.\n",
        "\n",
        "* https://scikit-learn.org/stable/modules/generated/sklearn.ensemble.RandomForestClassifier.html"
      ]
    },
    {
      "cell_type": "code",
      "execution_count": null,
      "metadata": {
        "scrolled": true,
        "id": "9aZZD2v5ZInG"
      },
      "outputs": [],
      "source": [
        "from sklearn.ensemble import RandomForestClassifier\n",
        "from sklearn.datasets import load_breast_cancer\n",
        "\n",
        "cancer = load_breast_cancer()"
      ]
    },
    {
      "cell_type": "markdown",
      "metadata": {
        "id": "NrP3B37ZZInH"
      },
      "source": [
        "#### Créer et tester le modèle :\n",
        "1. Diviser les données.\n",
        "2. Instancier le classifieur de forêt aléatoire avec les paramètres par défaut."
      ]
    },
    {
      "cell_type": "code",
      "execution_count": null,
      "metadata": {
        "id": "0HzIbC4TZInH"
      },
      "outputs": [],
      "source": [
        "from sklearn.model_selection import train_test_split\n",
        "\n",
        "# Fill here\n",
        "\n",
        "# X_train, X_test, y_train, y_test"
      ]
    },
    {
      "cell_type": "markdown",
      "metadata": {
        "id": "wqvDavJWZInI"
      },
      "source": [
        "#### Évaluons l'algorithme. :"
      ]
    },
    {
      "cell_type": "code",
      "execution_count": null,
      "metadata": {
        "id": "GfBykIkPZInI"
      },
      "outputs": [],
      "source": [
        "# Fill here"
      ]
    },
    {
      "cell_type": "markdown",
      "metadata": {
        "id": "jDwGPNHZZInJ"
      },
      "source": [
        "* Une précision de *97*% sur les données de test avec les paramètres par défaut est plutôt bonne !\n",
        "Nous pourrions obtenir des résultats potentiellement meilleurs en ajustant d'autres paramètres tels que :\n",
        "* Le nombre maximal de caractéristiques, qui contrôle la randomisation de chaque arbre.\n",
        "* L'élagage précoce, qui est similaire à ce qui est fait dans les arbres simples.\n",
        "\n",
        "L'importance des caractéristiques est plus représentative que dans les arbres simples, elle offre une vision plus équilibrée des poids des caractéristiques."
      ]
    },
    {
      "cell_type": "code",
      "execution_count": null,
      "metadata": {
        "id": "2ZWwam-kZInJ"
      },
      "outputs": [],
      "source": [
        "import numpy as np\n",
        "import matplotlib.pyplot as plt\n",
        "%matplotlib inline\n",
        "\n",
        "n_features = cancer.data.shape[1]\n",
        "\n",
        "n_features = cancer.data.shape[1]\n",
        "plt.barh(range(n_features), forest.feature_importances_, align='center')\n",
        "plt.yticks(np.arange(n_features), cancer.feature_names)\n",
        "plt.xlabel('Feature Importance')\n",
        "plt.ylabel('Feature')\n",
        "plt.show()"
      ]
    },
    {
      "cell_type": "markdown",
      "metadata": {
        "id": "S7wO7lvlZInJ"
      },
      "source": [
        "- Dans les arbres simples, nous avons constaté que la caractéristique \"worst radius\" avait un poids significativement plus élevé par rapport aux autres caractéristiques, qui étaient de 30.\n",
        "\n",
        "- Avec les forêts aléatoires, nous pouvons voir que de nombreuses autres caractéristiques ont une contribution non nulle, elles jouent un rôle plus important dans la prise de décision par rapport à l'arbre de décision unique. Les forêts aléatoires, dans notre cas, semblent offrir un choix plus éclairé."
      ]
    },
    {
      "cell_type": "markdown",
      "metadata": {
        "id": "NswaJSLqZInK"
      },
      "source": [
        "### Avantages potentiels des forêts aléatoires\n",
        "\n",
        " - Puissants et largement utilisés.\n",
        " - Performent bien avec les paramètres par défaut.\n",
        " - Ne nécessitent pas de mise à l'échelle des données.\n",
        " - La randomisation les rend meilleurs que les arbres de décision simples.\n",
        "\n",
        "### Paramètres à régler\n",
        "\n",
        " - n_jobs : Nombre de cœurs à utiliser pour l'entraînement (n_jobs=-1, pour tous les cœurs). Utiliser deux cœurs doublera la vitesse par rapport à l'utilisation d'un seul cœur.\n",
        " - n_estimators : Nombre d'arbres à utiliser. Plus il y en a, mieux c'est, cela réduit le surajustement, MAIS il faut prendre en compte le temps d'entraînement et l'allocation de mémoire. Plus il y a d'arbres, plus les ressources de l'ordinateur sont sollicitées.\n",
        " - max_depth, pour l'élagage précoce.\n",
        " - max_features, pour la randomisation. Les valeurs par défaut sont :\n",
        "     - max_features = sqrt(n_features), pour la classification.\n",
        "     - max_features = log2(n_features), pour la régression.\n",
        " - etc.\n",
        "\n",
        "### Inconvénients potentiels des forêts aléatoires\n",
        "\n",
        "- Performance moins bonne sur des données très dimensionnelles et éparses (données textuelles).\n",
        "- Les grands ensembles de données nécessitent plus de ressources pour l'entraînement (temps, processeurs, etc.).\n",
        "- Ne peuvent pas être visualisées aussi facilement qu'un seul arbre de décision."
      ]
    }
  ],
  "metadata": {
    "kernelspec": {
      "display_name": "Python 3",
      "language": "python",
      "name": "python3"
    },
    "language_info": {
      "codemirror_mode": {
        "name": "ipython",
        "version": 3
      },
      "file_extension": ".py",
      "mimetype": "text/x-python",
      "name": "python",
      "nbconvert_exporter": "python",
      "pygments_lexer": "ipython3",
      "version": "3.6.8"
    },
    "colab": {
      "provenance": []
    }
  },
  "nbformat": 4,
  "nbformat_minor": 0
}