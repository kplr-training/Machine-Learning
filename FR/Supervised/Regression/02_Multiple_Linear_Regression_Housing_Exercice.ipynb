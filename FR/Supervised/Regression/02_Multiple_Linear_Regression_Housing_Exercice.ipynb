{
    "cells": [
        {
            "cell_type": "markdown",
            "metadata": {
                "id": "view-in-github",
                "colab_type": "text"
            },
            "source": [
                "<a href=\"https://colab.research.google.com/github/kplr-training/Machine-Learning/blob/main/FR/Supervised/Regression/02_Multiple_Linear_Regression_Housing_Exercice.ipynb\" target=\"_blank\"><img src=\"https://colab.research.google.com/assets/colab-badge.svg\" alt=\"Open In Colab\"/></a>"
            ]
        },
        {
            "cell_type": "markdown",
            "metadata": {
                "id": "ArMRiR0DR6WK"
            },
            "source": [
                "### <center>R\u00e9gression Lin\u00e9aire Multiple</center>"
            ]
        },
        {
            "cell_type": "code",
            "source": [
                "!pip show scikit-learn\n",
                "!pip uninstall scikit-learn\n",
                "!pip install scikit-learn==1.1.0"
            ],
            "metadata": {
                "id": "Hvi4eAoMR_LJ"
            },
            "execution_count": null,
            "outputs": []
        },
        {
            "cell_type": "code",
            "execution_count": null,
            "metadata": {
                "id": "VM626DoFR6WS"
            },
            "outputs": [],
            "source": [
                "import numpy as np\n",
                "import pandas as pd\n",
                "\n",
                "from sklearn.model_selection import train_test_split\n",
                "from sklearn.datasets import load_boston\n",
                "from sklearn.metrics import mean_squared_error, r2_score\n",
                "from sklearn.linear_model import LinearRegression"
            ]
        },
        {
            "cell_type": "markdown",
            "metadata": {
                "id": "mZWMvvukR6WU"
            },
            "source": [
                "#### Explorons la description de l'ensemble de donn\u00e9es."
            ]
        },
        {
            "cell_type": "code",
            "execution_count": null,
            "metadata": {
                "id": "sMGtrElLR6WU"
            },
            "outputs": [],
            "source": [
                "bh_data = load_boston()\n",
                "\n",
                "print(bh_data.keys())"
            ]
        },
        {
            "cell_type": "code",
            "execution_count": null,
            "metadata": {
                "id": "P7h2Jw-QR6WU"
            },
            "outputs": [],
            "source": [
                "print(bh_data.DESCR)"
            ]
        },
        {
            "cell_type": "markdown",
            "metadata": {
                "id": "1ABTnW4dR6WV"
            },
            "source": [
                "#### Cr\u00e9er un DataFrame pandas avec les donn\u00e9es du dataset."
            ]
        },
        {
            "cell_type": "code",
            "execution_count": null,
            "metadata": {
                "id": "qXYkdTIIR6WV"
            },
            "outputs": [],
            "source": [
                "# Fill here"
            ]
        },
        {
            "cell_type": "markdown",
            "metadata": {
                "id": "gUEnbTKsR6WV"
            },
            "source": [
                "#### Quelles sont les features ?"
            ]
        },
        {
            "cell_type": "code",
            "execution_count": null,
            "metadata": {
                "id": "2sX3eh0DR6WW"
            },
            "outputs": [],
            "source": [
                "from pprint import pprint\n",
                "\n",
                "# Fill here"
            ]
        },
        {
            "cell_type": "code",
            "execution_count": null,
            "metadata": {
                "id": "2IR5og4BR6WW"
            },
            "outputs": [],
            "source": [
                "boston['MEDV'] = bh_data.target\n",
                "\n",
                "X = pd.DataFrame(np.c_[boston['LSTAT'], boston['RM'],  boston['CRIM']], columns=['LSTAT','RM', 'CRIM'])\n",
                "y = boston['MEDV']"
            ]
        },
        {
            "cell_type": "markdown",
            "metadata": {
                "id": "MMd5Rq6DR6WX"
            },
            "source": [
                "#### Cr\u00e9er le model :\n",
                "1. Diviser les donn\u00e9es.\n",
                "2. Instanciez la r\u00e9gression lin\u00e9aire avec les param\u00e8tres par d\u00e9faut.\n",
                "3. Entra\u00eenez le mod\u00e8le.\n",
                "4. pr\u00e9dictions."
            ]
        },
        {
            "cell_type": "code",
            "execution_count": null,
            "metadata": {
                "id": "EU0oOAXPR6WX"
            },
            "outputs": [],
            "source": [
                "# Fill here"
            ]
        },
        {
            "cell_type": "markdown",
            "metadata": {
                "id": "PcAJYeZuR6WX"
            },
            "source": [
                "#### V\u00e9rifier la pr\u00e9cision :\n",
                "* Mean squared error.\n",
                "* Score."
            ]
        },
        {
            "cell_type": "code",
            "execution_count": null,
            "metadata": {
                "id": "jzIyf49HR6WY"
            },
            "outputs": [],
            "source": [
                "# Fill here"
            ]
        }
    ],
    "metadata": {
        "kernelspec": {
            "display_name": "Python 3",
            "language": "python",
            "name": "python3"
        },
        "language_info": {
            "codemirror_mode": {
                "name": "ipython",
                "version": 3
            },
            "file_extension": ".py",
            "mimetype": "text/x-python",
            "name": "python",
            "nbconvert_exporter": "python",
            "pygments_lexer": "ipython3",
            "version": "3.6.8"
        }
    },
    "nbformat": 4,
    "nbformat_minor": 0
}