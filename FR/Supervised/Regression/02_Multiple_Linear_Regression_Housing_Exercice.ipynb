{
  "cells": [
    {
      "cell_type": "markdown",
      "metadata": {
        "id": "ArMRiR0DR6WK"
      },
      "source": [
        "### <center>Régression Linéaire Multiple</center>"
      ]
    },
    {
      "cell_type": "code",
      "source": [
        "!pip show scikit-learn\n",
        "!pip uninstall scikit-learn\n",
        "!pip install scikit-learn==1.1.0"
      ],
      "metadata": {
        "id": "Hvi4eAoMR_LJ"
      },
      "execution_count": null,
      "outputs": []
    },
    {
      "cell_type": "code",
      "execution_count": null,
      "metadata": {
        "id": "VM626DoFR6WS"
      },
      "outputs": [],
      "source": [
        "import numpy as np\n",
        "import pandas as pd\n",
        "\n",
        "from sklearn.model_selection import train_test_split\n",
        "from sklearn.datasets import load_boston\n",
        "from sklearn.metrics import mean_squared_error, r2_score\n",
        "from sklearn.linear_model import LinearRegression"
      ]
    },
    {
      "cell_type": "markdown",
      "metadata": {
        "id": "mZWMvvukR6WU"
      },
      "source": [
        "#### Explorons la description de l'ensemble de données."
      ]
    },
    {
      "cell_type": "code",
      "execution_count": null,
      "metadata": {
        "id": "sMGtrElLR6WU"
      },
      "outputs": [],
      "source": [
        "bh_data = load_boston()\n",
        "\n",
        "print(bh_data.keys())"
      ]
    },
    {
      "cell_type": "code",
      "execution_count": null,
      "metadata": {
        "id": "P7h2Jw-QR6WU"
      },
      "outputs": [],
      "source": [
        "print(bh_data.DESCR)"
      ]
    },
    {
      "cell_type": "markdown",
      "metadata": {
        "id": "1ABTnW4dR6WV"
      },
      "source": [
        "#### Créer un DataFrame pandas avec les données du dataset."
      ]
    },
    {
      "cell_type": "code",
      "execution_count": null,
      "metadata": {
        "id": "qXYkdTIIR6WV"
      },
      "outputs": [],
      "source": [
        "# Fill here"
      ]
    },
    {
      "cell_type": "markdown",
      "metadata": {
        "id": "gUEnbTKsR6WV"
      },
      "source": [
        "#### Quelles sont les features ?"
      ]
    },
    {
      "cell_type": "code",
      "execution_count": null,
      "metadata": {
        "id": "2sX3eh0DR6WW"
      },
      "outputs": [],
      "source": [
        "from pprint import pprint\n",
        "\n",
        "# Fill here"
      ]
    },
    {
      "cell_type": "code",
      "execution_count": null,
      "metadata": {
        "id": "2IR5og4BR6WW"
      },
      "outputs": [],
      "source": [
        "boston['MEDV'] = bh_data.target\n",
        "\n",
        "X = pd.DataFrame(np.c_[boston['LSTAT'], boston['RM'],  boston['CRIM']], columns=['LSTAT','RM', 'CRIM'])\n",
        "y = boston['MEDV']"
      ]
    },
    {
      "cell_type": "markdown",
      "metadata": {
        "id": "MMd5Rq6DR6WX"
      },
      "source": [
        "#### Créer le model :\n",
        "1. Diviser les données.\n",
        "2. Instanciez la régression linéaire avec les paramètres par défaut.\n",
        "3. Entraînez le modèle.\n",
        "4. prédictions."
      ]
    },
    {
      "cell_type": "code",
      "execution_count": null,
      "metadata": {
        "id": "EU0oOAXPR6WX"
      },
      "outputs": [],
      "source": [
        "# Fill here"
      ]
    },
    {
      "cell_type": "markdown",
      "metadata": {
        "id": "PcAJYeZuR6WX"
      },
      "source": [
        "#### Vérifier la précision :\n",
        "* Mean squared error.\n",
        "* Score."
      ]
    },
    {
      "cell_type": "code",
      "execution_count": null,
      "metadata": {
        "id": "jzIyf49HR6WY"
      },
      "outputs": [],
      "source": [
        "# Fill here"
      ]
    }
  ],
  "metadata": {
    "kernelspec": {
      "display_name": "Python 3",
      "language": "python",
      "name": "python3"
    },
    "language_info": {
      "codemirror_mode": {
        "name": "ipython",
        "version": 3
      },
      "file_extension": ".py",
      "mimetype": "text/x-python",
      "name": "python",
      "nbconvert_exporter": "python",
      "pygments_lexer": "ipython3",
      "version": "3.6.8"
    },
    "colab": {
      "provenance": []
    }
  },
  "nbformat": 4,
  "nbformat_minor": 0
}